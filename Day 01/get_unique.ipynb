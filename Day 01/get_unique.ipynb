{
 "cells": [
  {
   "cell_type": "code",
   "execution_count": 1,
   "metadata": {},
   "outputs": [
    {
     "name": "stdout",
     "output_type": "stream",
     "text": [
      "[10, 9, 7]\n"
     ]
    }
   ],
   "source": [
    "def helper_function(x, data):\n",
    "    for i in data:\n",
    "        if x == i:\n",
    "            return 0\n",
    "    return 1\n",
    "\n",
    "\n",
    "def get_unique(data):\n",
    "\n",
    "    result = []\n",
    "\n",
    "    for element in data:\n",
    "        if helper_function(element, result):\n",
    "            result.append(element)\n",
    "\n",
    "    return result\n",
    "\n",
    "print(get_unique([10, 10, 9, 7, 7]))"
   ]
  },
  {
   "cell_type": "code",
   "execution_count": 2,
   "metadata": {},
   "outputs": [
    {
     "name": "stdout",
     "output_type": "stream",
     "text": [
      "[9, -1, 3, 0, 8]\n"
     ]
    }
   ],
   "source": [
    "def get_unique_2(data):\n",
    "\n",
    "    result = []\n",
    "\n",
    "    for element in data:\n",
    "        if element not in result:\n",
    "            result.append(element)\n",
    "\n",
    "    return result\n",
    "\n",
    "\n",
    "print(get_unique_2([9, 9, -1, 3, 0, 8, 8]))"
   ]
  },
  {
   "cell_type": "code",
   "execution_count": 7,
   "metadata": {},
   "outputs": [
    {
     "data": {
      "text/plain": [
       "'Đinh Sửu'"
      ]
     },
     "execution_count": 7,
     "metadata": {},
     "output_type": "execute_result"
    }
   ],
   "source": [
    "def calculate_can_chi_calendar(year: int) -> str:\n",
    "    '''Convert a year into Can Chi (Lunar Calendar)\n",
    "    \n",
    "    Args:\n",
    "        year: the year to convert\n",
    "\n",
    "    Returns:\n",
    "        result: the representing string for year in Can Chi (Lunar Calendar)\n",
    "    '''\n",
    "\n",
    "    result = ''\n",
    "\n",
    "    CAN = \"Canh Tân Nhâm Quý Giáp Ất Bính Đinh Mậu Kỷ\"\n",
    "    CAN = CAN.split(' ')\n",
    "    CHI = \"Thân Dậu Tuất Hợi Tý Sửu Dần Mẹo Thìn Tỵ Ngọ Mùi\"\n",
    "    CHI = CHI.split(' ')\n",
    "    \n",
    "    can_idx= year % 10\n",
    "    chi_idx = year % 12\n",
    "\n",
    "    result = f\"{CAN[can_idx]} {CHI[chi_idx]}\"\n",
    "\n",
    "    return result\n",
    "\n",
    "\n",
    "\n",
    "print(calculate_can_chi_calendar(2024))\n",
    "calculate_can_chi_calendar(2023)\n",
    "calculate_can_chi_calendar(1997)\n",
    "\n"
   ]
  },
  {
   "cell_type": "code",
   "execution_count": null,
   "metadata": {},
   "outputs": [],
   "source": []
  }
 ],
 "metadata": {
  "kernelspec": {
   "display_name": "base",
   "language": "python",
   "name": "python3"
  },
  "language_info": {
   "codemirror_mode": {
    "name": "ipython",
    "version": 3
   },
   "file_extension": ".py",
   "mimetype": "text/x-python",
   "name": "python",
   "nbconvert_exporter": "python",
   "pygments_lexer": "ipython3",
   "version": "3.11.7"
  }
 },
 "nbformat": 4,
 "nbformat_minor": 2
}
