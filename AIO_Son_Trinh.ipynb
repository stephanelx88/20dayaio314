{
  "nbformat": 4,
  "nbformat_minor": 0,
  "metadata": {
    "colab": {
      "provenance": [],
      "include_colab_link": true
    },
    "kernelspec": {
      "name": "python3",
      "display_name": "Python 3"
    },
    "language_info": {
      "name": "python"
    }
  },
  "cells": [
    {
      "cell_type": "markdown",
      "metadata": {
        "id": "view-in-github",
        "colab_type": "text"
      },
      "source": [
        "<a href=\"https://colab.research.google.com/github/stephanelx88/20dayaio314/blob/main/AIO_Son_Trinh.ipynb\" target=\"_parent\"><img src=\"https://colab.research.google.com/assets/colab-badge.svg\" alt=\"Open In Colab\"/></a>"
      ]
    },
    {
      "cell_type": "markdown",
      "source": [
        "# Day 1: Convert year to lunar year name"
      ],
      "metadata": {
        "id": "85KhTdmTlQLc"
      }
    },
    {
      "cell_type": "code",
      "source": [
        "def convert_lunar_year(year) -> str:\n",
        "    '''Convert year to lunar year name\n",
        "\n",
        "    Args:\n",
        "        year: the year to convert\n",
        "\n",
        "    Returns:\n",
        "        lunar_year: the lunar year name\n",
        "\n",
        "    Examples:\n",
        "        >>> convert_lunar_year(2023) = \"Giáp Thìn\"\n",
        "        >>> convert_lunar_year(2024) = \"Quý Mão\"\n",
        "    '''\n",
        "\n",
        "    can_str = \"Canh Tân Nhâm Quý Giáp Ất Bính Đinh Mậu Kỷ\"\n",
        "    cans = can_str.split(' ')\n",
        "    chi_str = \"Thân Dậu Tuất Hợi Tý Sửu Dần Mẹo Thìn Tỵ Ngọ Mùi\"\n",
        "    chis = chi_str.split(' ')\n",
        "\n",
        "    can_index = year % 10\n",
        "    chi_index = year % 12\n",
        "\n",
        "    lunar_year = f\"{cans[can_index]} {chis[chi_index]}\"\n",
        "\n",
        "    return lunar_year\n",
        "\n",
        "\n",
        "print(convert_lunar_year(2024))\n",
        "print(convert_lunar_year(2023))\n",
        "print(convert_lunar_year(1997))\n"
      ],
      "metadata": {
        "colab": {
          "base_uri": "https://localhost:8080/"
        },
        "id": "rC0wh6KKlWEw",
        "outputId": "c666397b-a7b6-443e-eb5f-a2c8c8a70579"
      },
      "execution_count": 59,
      "outputs": [
        {
          "output_type": "stream",
          "name": "stdout",
          "text": [
            "Giáp Thìn\n",
            "Quý Mẹo\n",
            "Đinh Sửu\n"
          ]
        }
      ]
    },
    {
      "cell_type": "markdown",
      "source": [
        "# Day 2: Compute compound interest"
      ],
      "metadata": {
        "id": "91kzkGOXf4Tv"
      }
    },
    {
      "cell_type": "code",
      "source": [
        "import math\n",
        "\n",
        "def get_balance(principle, period=1):\n",
        "    '''Get the balance of principle after number of periods\n",
        "    with compound interests\n",
        "\n",
        "    Args:\n",
        "        principle: the principal amount\n",
        "        period: the number of periods\n",
        "\n",
        "    Returns:\n",
        "        amount: the balance after number of periods\n",
        "\n",
        "    Examples:\n",
        "        >>> get_balance(1, 365) = 2.7182818284590455\n",
        "        >>> get_balance(1, 12) = 2.7182818282861687\n",
        "    '''\n",
        "\n",
        "\n",
        "    balance = principle\n",
        "    for i in range(1, period + 1):\n",
        "        balance += principle / math.factorial(i)\n",
        "\n",
        "    return balance\n",
        "\n",
        "\n",
        "print(get_balance(1, 12))"
      ],
      "metadata": {
        "colab": {
          "base_uri": "https://localhost:8080/"
        },
        "id": "i67i5VxBfyi6",
        "outputId": "a1ba093b-5c81-4f82-a614-82336c6df233"
      },
      "execution_count": 60,
      "outputs": [
        {
          "output_type": "stream",
          "name": "stdout",
          "text": [
            "2.7182818282861687\n"
          ]
        }
      ]
    },
    {
      "cell_type": "markdown",
      "source": [
        "# Day 3: Compute squared root"
      ],
      "metadata": {
        "id": "iTdoHkKsvQ8S"
      }
    },
    {
      "cell_type": "code",
      "execution_count": null,
      "metadata": {
        "id": "IEJo6r6OOHJp",
        "colab": {
          "base_uri": "https://localhost:8080/"
        },
        "outputId": "b5dda547-8a5f-4c51-8a55-056082261a45"
      },
      "outputs": [
        {
          "output_type": "stream",
          "name": "stdout",
          "text": [
            "9.000009415515176\n",
            "1.4142156862745097\n",
            "1.7321428571428572\n"
          ]
        }
      ],
      "source": [
        "def derivative(x):\n",
        "    return 2 * x\n",
        "\n",
        "\n",
        "def compute_squared_root(a):\n",
        "    '''Compute the squared root of number a\n",
        "\n",
        "    Args:\n",
        "        a: the number to compute the squared root of\n",
        "\n",
        "    Returns:\n",
        "        xn: the squared root of a\n",
        "    '''\n",
        "\n",
        "    # Validate a to make sure it is not negative\n",
        "    if a < 0:\n",
        "        raise ValueError(\"Cannot compute square root of a negative number\")\n",
        "\n",
        "    epsilon = 0.001\n",
        "\n",
        "    result = a / 2\n",
        "\n",
        "    while abs(result * result - a) >= epsilon:\n",
        "        result = (result + a / result) / 2\n",
        "\n",
        "    return result\n",
        "\n",
        "print(compute_squared_root(81))\n",
        "print(compute_squared_root(2))\n",
        "print(compute_squared_root(3))\n",
        "# print(compute_squared_root(-1))\n",
        "\n",
        "\n"
      ]
    },
    {
      "cell_type": "markdown",
      "source": [
        "# Day 4: Convolutional calculation"
      ],
      "metadata": {
        "id": "zKsinANYw3hG"
      }
    },
    {
      "cell_type": "code",
      "source": [
        "def get_sub_matrix(A, row, col, kernel_row, kernel_col):\n",
        "    '''Extract the sub_matrix of size kernel_len of the original matrix A\n",
        "\n",
        "    Args:\n",
        "        A: the original matrix\n",
        "        row: row of the start element\n",
        "        col: column of the start element\n",
        "        kernel_len: the length of the kernel\n",
        "\n",
        "    Returns:\n",
        "        sub_matrix: the sub_matrix of size kernel_len\n",
        "    '''\n",
        "    sub_matrix = [lst[col: col + kernel_col] for lst in A[row: row + kernel_row]]\n",
        "\n",
        "    return sub_matrix\n",
        "\n",
        "def sum_product(a, b):\n",
        "    '''''Compute the sum product of two matrices\n",
        "\n",
        "    Args:\n",
        "        a: the first matrix\n",
        "        b: the second matrix\n",
        "\n",
        "    Returns:\n",
        "        total: the sum product of a and b\n",
        "    '''\n",
        "\n",
        "    # Check if a b is the same size\n",
        "    if len(a) != len(b) or len(a[0]) != len(b[0]):\n",
        "        raise ValueError(\"a and b must be the same size\")\n",
        "\n",
        "    total = 0\n",
        "    for i in range(len(a)):\n",
        "        for j in range(len(a[0])):\n",
        "            total += a[i][j] * b[i][j]\n",
        "\n",
        "    return total\n",
        "\n",
        "\n",
        "\n",
        "def convolution(A, kernel):\n",
        "    '''Compute the convolutional matrix of matrix A and B\n",
        "\n",
        "    Args:\n",
        "        A: the first matrix\n",
        "        kernel: the kernel matrix\n",
        "\n",
        "    Returns:\n",
        "        convo: the convolutional matrix of A with kernel\n",
        "    '''\n",
        "\n",
        "    # Calculate shape of the returned convo matrix\n",
        "    rows = len(A) - len(kernel) + 1\n",
        "    cols = len(A[0]) - len(kernel[0]) + 1\n",
        "\n",
        "    convo = [[0]*cols for _ in range(rows)]\n",
        "\n",
        "    # Slide the kernel over the matrix A\n",
        "    for i in range(rows):\n",
        "        for j in range(cols):\n",
        "            sub_a = get_sub_matrix(A, i, j, len(kernel), len(kernel[0]))\n",
        "            convo[i][j] = sum_product(sub_a, kernel)\n",
        "\n",
        "    return convo\n",
        "\n",
        "A = [\n",
        "    [1, 2, 3],\n",
        "    [4, 5, 6],\n",
        "    [7, 8, 9]\n",
        "]\n",
        "\n",
        "B = [\n",
        "    [2, 4],\n",
        "    [1, 3]\n",
        "]\n",
        "\n",
        "C = [\n",
        "    [1, 1, 1],\n",
        "    [0, 0, 0],\n",
        "    [1, 1, 1]\n",
        "]\n",
        "\n",
        "print(convolution(A, B))\n",
        "print(convolution(A, C))\n",
        "\n",
        "\n",
        "# print(get_sub_matrix(A, 1, 1, 2))\n",
        "# print(sum_product(B, C))\n"
      ],
      "metadata": {
        "id": "xqy78-ytpP8D",
        "colab": {
          "base_uri": "https://localhost:8080/"
        },
        "outputId": "816bbfa3-721c-4d60-9d06-e906bae9c019"
      },
      "execution_count": 45,
      "outputs": [
        {
          "output_type": "stream",
          "name": "stdout",
          "text": [
            "[[29, 39], [59, 69]]\n",
            "[[30]]\n"
          ]
        }
      ]
    },
    {
      "cell_type": "code",
      "source": [],
      "metadata": {
        "id": "1srrRxhs6Lxh"
      },
      "execution_count": null,
      "outputs": []
    },
    {
      "cell_type": "markdown",
      "source": [
        "# Day 2: Extra List Exercises"
      ],
      "metadata": {
        "id": "aogGmucIoNlm"
      }
    },
    {
      "cell_type": "code",
      "source": [
        "def is_armstrong(n):\n",
        "    '''''Check if n is an armstrong number\n",
        "\n",
        "    Args:\n",
        "        n: the number to check\n",
        "\n",
        "    Returns:\n",
        "        True if n is an armstrong number, False otherwise\n",
        "    '''\n",
        "\n",
        "    if n < 0:\n",
        "        print('Number must be a positive integer!')\n",
        "        return\n",
        "\n",
        "    n_str = str(n)\n",
        "\n",
        "    d = len(n_str)\n",
        "\n",
        "    total = 0\n",
        "    for i in range(d):\n",
        "        x = int(n_str[i])\n",
        "        total += x ** 3\n",
        "\n",
        "    if total == n:\n",
        "        return True\n",
        "    else:\n",
        "        return False\n",
        "\n",
        "\n",
        "print(is_armstrong(153))\n",
        "print(is_armstrong(154))"
      ],
      "metadata": {
        "colab": {
          "base_uri": "https://localhost:8080/"
        },
        "id": "tQwpSfbAl8xO",
        "outputId": "a0b1b3b6-5a78-4777-bdd8-4eebbdc05b51"
      },
      "execution_count": 61,
      "outputs": [
        {
          "output_type": "stream",
          "name": "stdout",
          "text": [
            "True\n",
            "False\n"
          ]
        }
      ]
    },
    {
      "cell_type": "code",
      "source": [],
      "metadata": {
        "id": "AT-_qQ7KqxS8"
      },
      "execution_count": null,
      "outputs": []
    },
    {
      "cell_type": "code",
      "source": [],
      "metadata": {
        "id": "eKLlOsWfoMdM"
      },
      "execution_count": null,
      "outputs": []
    }
  ]
}