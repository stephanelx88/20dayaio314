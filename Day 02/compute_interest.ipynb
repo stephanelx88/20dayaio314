{
 "cells": [
  {
   "cell_type": "code",
   "execution_count": 15,
   "metadata": {},
   "outputs": [
    {
     "name": "stdout",
     "output_type": "stream",
     "text": [
      "2.6130352902246763\n",
      "2.7145674820219714\n",
      "2.716422326460353\n"
     ]
    }
   ],
   "source": [
    "def compute_interest(principle: float, period:int) -> float:\n",
    "    \"\"\"Returns the total amount after a period of interest\n",
    "    \n",
    "    Args:\n",
    "        principle: The original amount of money\n",
    "        period: The number of periods of interest\n",
    "\n",
    "    Returns:\n",
    "        amount: the total amount after a period of interest\n",
    "    \"\"\"\n",
    "    # Validate principle\n",
    "    if principle < 0:\n",
    "        print('Invalid principle.')\n",
    "\n",
    "    # Validate to make sure period is non-negative\n",
    "    if period < 0:\n",
    "        print(\"Invalid period. Period must be positive\")\n",
    "    \n",
    "    principle = principle + principle/period\n",
    "    amount = principle\n",
    "\n",
    "    for _ in range(period - 1): # Loop through peiod 2 onwards because the first period interest has been computed\n",
    "        amount *= principle\n",
    "        \n",
    "\n",
    "    return amount\n",
    "\n",
    "print(compute_interest(1,12))\n",
    "print(compute_interest(1, 365))\n",
    "print(compute_interest(1, 730))\n",
    "\n",
    "\n",
    "\n"
   ]
  },
  {
   "cell_type": "code",
   "execution_count": 38,
   "metadata": {},
   "outputs": [
    {
     "name": "stdout",
     "output_type": "stream",
     "text": [
      "1.29999996\n"
     ]
    }
   ],
   "source": [
    "print((1.0833333 + 1.0833333/11)  + (1.0833333 + 1.0833333/11)/10)"
   ]
  },
  {
   "cell_type": "markdown",
   "metadata": {},
   "source": []
  }
 ],
 "metadata": {
  "kernelspec": {
   "display_name": "base",
   "language": "python",
   "name": "python3"
  },
  "language_info": {
   "codemirror_mode": {
    "name": "ipython",
    "version": 3
   },
   "file_extension": ".py",
   "mimetype": "text/x-python",
   "name": "python",
   "nbconvert_exporter": "python",
   "pygments_lexer": "ipython3",
   "version": "3.11.7"
  }
 },
 "nbformat": 4,
 "nbformat_minor": 2
}
